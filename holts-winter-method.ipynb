{
 "cells": [
  {
   "cell_type": "code",
   "execution_count": 1,
   "id": "f0eb1f10-81ec-4791-beac-7c9804e7272f",
   "metadata": {
    "tags": []
   },
   "outputs": [
    {
     "ename": "ModuleNotFoundError",
     "evalue": "No module named 'numpy'",
     "output_type": "error",
     "traceback": [
      "\u001b[1;31m---------------------------------------------------------------------------\u001b[0m",
      "\u001b[1;31mModuleNotFoundError\u001b[0m                       Traceback (most recent call last)",
      "Cell \u001b[1;32mIn[1], line 1\u001b[0m\n\u001b[1;32m----> 1\u001b[0m \u001b[38;5;28;01mimport\u001b[39;00m \u001b[38;5;21;01mnumpy\u001b[39;00m \u001b[38;5;28;01mas\u001b[39;00m \u001b[38;5;21;01mnp\u001b[39;00m\n\u001b[0;32m      2\u001b[0m \u001b[38;5;28;01mimport\u001b[39;00m \u001b[38;5;21;01mpandas\u001b[39;00m \u001b[38;5;28;01mas\u001b[39;00m \u001b[38;5;21;01mpd\u001b[39;00m\n",
      "\u001b[1;31mModuleNotFoundError\u001b[0m: No module named 'numpy'"
     ]
    }
   ],
   "source": [
    "import numpy as np\n",
    "import pandas as pd"
   ]
  },
  {
   "cell_type": "code",
   "execution_count": null,
   "id": "94189fe6-8d3a-48a6-8c38-2276d94618dd",
   "metadata": {},
   "outputs": [],
   "source": [
    "def exponential_smoothing(series, alpha, beta, gamma, h, n_preds):\n",
    "    level, trend = series[0], series[1] - series[0]\n",
    "    seasonals = initial_seasonality(series, h)\n",
    "    result = [series[0]]\n",
    "    for i in range(1, len(series) + n_preds):\n",
    "        if i >= len(series):\n",
    "            m = i - len(series) + 1\n",
    "            result.append(level + m * trend + seasonals[i % h])\n",
    "        else:\n",
    "            val = series[i]\n",
    "            last_level, level = level, alpha * (val - seasonals[i % h]) + (1 - alpha) * (level + trend)\n",
    "            trend = beta * (level - last_level) + (1 - beta) * trend\n",
    "            seasonals[i % h] = gamma * (val - level) + (1 - gamma) * seasonals[i % h]\n",
    "            result.append(level + trend + seasonals[i % h])\n",
    "    return result"
   ]
  },
  {
   "cell_type": "code",
   "execution_count": null,
   "id": "dc3fb149-cc3d-4acc-9fd2-12376dd1e00b",
   "metadata": {},
   "outputs": [],
   "source": [
    "def initial_seasonality(series, h):\n",
    "    seasonals = np.zeros(h)\n",
    "    season_averages = [sum(series[i:i + h]) / h for i in range(len(series) - h + 1)]\n",
    "    for i in range(h):\n",
    "        seasonals[i] = sum([series[j] - season_averages[j // h] for j in range(i, len(series) - h + i, h)]) / (len(series) // h)\n",
    "    return seasonals"
   ]
  },
  {
   "cell_type": "code",
   "execution_count": null,
   "id": "3d00b9d9-d259-4f23-aa12-3c969168dafd",
   "metadata": {},
   "outputs": [],
   "source": [
    "df = pd.read_csv(\"electrical_load_data.csv\")"
   ]
  },
  {
   "cell_type": "code",
   "execution_count": null,
   "id": "1cf49945-532a-4b99-9446-232fd3f4c370",
   "metadata": {},
   "outputs": [],
   "source": [
    "alpha = 0.5\n",
    "beta = 0.5\n",
    "gamma = 0.5\n",
    "h = 24\n",
    "n_preds = 48 "
   ]
  },
  {
   "cell_type": "code",
   "execution_count": null,
   "id": "e0fe594c-79e8-406c-9ece-12e577a19e82",
   "metadata": {},
   "outputs": [],
   "source": [
    "series = df[\"load\"].values\n",
    "\n",
    "predictions = exponential_smoothing(series, alpha, beta, gamma, h, n_preds)"
   ]
  },
  {
   "cell_type": "code",
   "execution_count": null,
   "id": "f1f241d1-f50c-4640-8caf-e62649d88b62",
   "metadata": {},
   "outputs": [],
   "source": [
    "df[\"prediction\"] = np.concatenate((series, predictions))\n",
    "\n",
    "df.to_csv(\"electrical_load_predictions.csv\", index=False)"
   ]
  }
 ],
 "metadata": {
  "kernelspec": {
   "display_name": "Python 3 (ipykernel)",
   "language": "python",
   "name": "python3"
  },
  "language_info": {
   "codemirror_mode": {
    "name": "ipython",
    "version": 3
   },
   "file_extension": ".py",
   "mimetype": "text/x-python",
   "name": "python",
   "nbconvert_exporter": "python",
   "pygments_lexer": "ipython3",
   "version": "3.9.6"
  }
 },
 "nbformat": 4,
 "nbformat_minor": 5
}
